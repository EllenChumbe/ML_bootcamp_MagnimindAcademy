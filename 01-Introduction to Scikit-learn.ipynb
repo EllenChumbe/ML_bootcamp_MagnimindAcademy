{
 "cells": [
  {
   "cell_type": "markdown",
   "id": "d6a76aaa-1cfb-400d-ad70-d13ae1d2ad38",
   "metadata": {
    "tags": []
   },
   "source": [
    "# I. Introduction to SciKit-learn"
   ]
  },
  {
   "cell_type": "markdown",
   "id": "030ac417-008f-4786-9210-e4c8ea9c5f9d",
   "metadata": {},
   "source": [
    "## Step 1. Import the necessary libraries"
   ]
  },
  {
   "cell_type": "code",
   "execution_count": 3,
   "id": "1126e026-8d33-401c-b5d5-587d527fa369",
   "metadata": {},
   "outputs": [],
   "source": [
    "import matplotlib.pyplot as plt\n",
    "import numpy as np\n",
    "%matplotlib inline"
   ]
  },
  {
   "cell_type": "markdown",
   "id": "88e6d046-923c-4db5-99ac-7be4827729bd",
   "metadata": {},
   "source": [
    "## Step 2. Import one of the toy datasets (digits) from Scikitlearn"
   ]
  },
  {
   "cell_type": "markdown",
   "id": "806cb3f2-453a-49b5-b6f7-5e15605654b5",
   "metadata": {},
   "source": [
    "This is a copy of the test of the UCI ML hand-written digits datasets\n",
    "https://archive.ics.uci.edu/ml/datasets/Optical+Recognition+of+Handwritten+Digits\n",
    "\n",
    "The data set contains images of hand-written digits: 10 classes where each class refers to a digit.\n",
    "\n",
    "Each datapoint is 8x8 image of a digit, Classes=10, Samples per class ~180,\n",
    "\n",
    "Samples total=1797, Dimensionality=64, and Features=(integers 0-16)\n",
    "\n",
    "After importing this dataset, split it into test and train sets. You may check the shape of data and the target attributes of the dataset. You may also want to print a few samples from the dataset.\n"
   ]
  },
  {
   "cell_type": "code",
   "execution_count": 2,
   "id": "05c0678f-6d5f-49e7-86f5-eec8eaa64772",
   "metadata": {},
   "outputs": [],
   "source": [
    "from sklearn.datasets import load_digits\n",
    "digits = load_digits()"
   ]
  },
  {
   "cell_type": "code",
   "execution_count": 5,
   "id": "8b4fd834-cc96-4590-9ff1-493d695ef6ea",
   "metadata": {},
   "outputs": [
    {
     "data": {
      "text/plain": [
       "\".. _digits_dataset:\\n\\nOptical recognition of handwritten digits dataset\\n--------------------------------------------------\\n\\n**Data Set Characteristics:**\\n\\n    :Number of Instances: 1797\\n    :Number of Attributes: 64\\n    :Attribute Information: 8x8 image of integer pixels in the range 0..16.\\n    :Missing Attribute Values: None\\n    :Creator: E. Alpaydin (alpaydin '@' boun.edu.tr)\\n    :Date: July; 1998\\n\\nThis is a copy of the test set of the UCI ML hand-written digits datasets\\nhttps://archive.ics.uci.edu/ml/datasets/Optical+Recognition+of+Handwritten+Digits\\n\\nThe data set contains images of hand-written digits: 10 classes where\\neach class refers to a digit.\\n\\nPreprocessing programs made available by NIST were used to extract\\nnormalized bitmaps of handwritten digits from a preprinted form. From a\\ntotal of 43 people, 30 contributed to the training set and different 13\\nto the test set. 32x32 bitmaps are divided into nonoverlapping blocks of\\n4x4 and the number of on pixels are counted in each block. This generates\\nan input matrix of 8x8 where each element is an integer in the range\\n0..16. This reduces dimensionality and gives invariance to small\\ndistortions.\\n\\nFor info on NIST preprocessing routines, see M. D. Garris, J. L. Blue, G.\\nT. Candela, D. L. Dimmick, J. Geist, P. J. Grother, S. A. Janet, and C.\\nL. Wilson, NIST Form-Based Handprint Recognition System, NISTIR 5469,\\n1994.\\n\\n.. topic:: References\\n\\n  - C. Kaynak (1995) Methods of Combining Multiple Classifiers and Their\\n    Applications to Handwritten Digit Recognition, MSc Thesis, Institute of\\n    Graduate Studies in Science and Engineering, Bogazici University.\\n  - E. Alpaydin, C. Kaynak (1998) Cascading Classifiers, Kybernetika.\\n  - Ken Tang and Ponnuthurai N. Suganthan and Xi Yao and A. Kai Qin.\\n    Linear dimensionalityreduction using relevance weighted LDA. School of\\n    Electrical and Electronic Engineering Nanyang Technological University.\\n    2005.\\n  - Claudio Gentile. A New Approximate Maximal Margin Classification\\n    Algorithm. NIPS. 2000.\\n\""
      ]
     },
     "execution_count": 5,
     "metadata": {},
     "output_type": "execute_result"
    }
   ],
   "source": [
    "digits.keys()\n",
    "#digits.DESCR"
   ]
  },
  {
   "cell_type": "code",
   "execution_count": 7,
   "id": "bf86ff6a-e5c5-427c-83f5-2c53bf5bb383",
   "metadata": {},
   "outputs": [],
   "source": [
    "X, y = digits.data, digits.target"
   ]
  },
  {
   "cell_type": "code",
   "execution_count": 8,
   "id": "57678133-4f32-469e-ad8e-d6adec31e703",
   "metadata": {},
   "outputs": [
    {
     "data": {
      "text/plain": [
       "(1797, 64)"
      ]
     },
     "execution_count": 8,
     "metadata": {},
     "output_type": "execute_result"
    }
   ],
   "source": [
    "X.shape \n",
    "#1797 datapoints, each datapoint represented by 64 numbers"
   ]
  },
  {
   "cell_type": "code",
   "execution_count": 9,
   "id": "6a8df944-5ca6-4fe5-8e10-7ba92c08cc33",
   "metadata": {},
   "outputs": [
    {
     "data": {
      "text/plain": [
       "array([178, 182, 177, 183, 181, 182, 181, 179, 174, 180])"
      ]
     },
     "execution_count": 9,
     "metadata": {},
     "output_type": "execute_result"
    }
   ],
   "source": [
    "# How many datapoints are there per digit?\n",
    "np.bincount(y)\n",
    "# balanced dataset, almost equal number of digits in the dataset"
   ]
  },
  {
   "cell_type": "code",
   "execution_count": 11,
   "id": "606926df-9cb4-4d6e-84d1-0bfde11451f6",
   "metadata": {},
   "outputs": [],
   "source": [
    "from sklearn.model_selection import train_test_split\n",
    "X_train, X_test, y_train, y_test = train_test_split(X, y, \n",
    "                                                    stratify = y,\n",
    "                                                   random_state = 42)"
   ]
  },
  {
   "cell_type": "code",
   "execution_count": 12,
   "id": "6b861ed2-1cf0-446b-9a23-16b1beb79de9",
   "metadata": {},
   "outputs": [
    {
     "data": {
      "text/plain": [
       "(64,)"
      ]
     },
     "execution_count": 12,
     "metadata": {},
     "output_type": "execute_result"
    }
   ],
   "source": [
    "X_train[0].shape"
   ]
  },
  {
   "cell_type": "code",
   "execution_count": 14,
   "id": "d0a074d9-a153-4bd5-9fae-1264f7f697cc",
   "metadata": {},
   "outputs": [
    {
     "data": {
      "text/plain": [
       "(8, 8)"
      ]
     },
     "execution_count": 14,
     "metadata": {},
     "output_type": "execute_result"
    }
   ],
   "source": [
    "X_train[0].reshape(8,8).shape"
   ]
  },
  {
   "cell_type": "code",
   "execution_count": 17,
   "id": "0f5c0c49-9f5c-4849-89a6-df188070fb86",
   "metadata": {},
   "outputs": [
    {
     "data": {
      "text/plain": [
       "<matplotlib.image.AxesImage at 0x7fd700384c40>"
      ]
     },
     "execution_count": 17,
     "metadata": {},
     "output_type": "execute_result"
    },
    {
     "data": {
      "text/plain": [
       "<Figure size 432x288 with 0 Axes>"
      ]
     },
     "metadata": {},
     "output_type": "display_data"
    },
    {
     "data": {
      "image/png": "[encoded data removed]",
      "text/plain": [
       "<Figure size 288x288 with 1 Axes>"
      ]
     },
     "metadata": {
      "needs_background": "light"
     },
     "output_type": "display_data"
    }
   ],
   "source": [
    "plt.gray()\n",
    "plt.matshow(X_train[0].reshape(8,8))"
   ]
  },
  {
   "cell_type": "markdown",
   "id": "6a7e10a1-0f89-4fb2-8c68-4fb2b1bd44da",
   "metadata": {
    "tags": []
   },
   "source": [
    "# II. Sklearn API for model training"
   ]
  },
  {
   "cell_type": "markdown",
   "id": "1ee9c475-ce8d-444f-af00-f5d9f6a9bcff",
   "metadata": {},
   "source": [
    "## Step 1. Import you model class"
   ]
  },
  {
   "cell_type": "markdown",
   "id": "db58f2a9-6b7d-4609-8e1c-452c94ddd1d7",
   "metadata": {},
   "source": [
    "As an example, let us LinearSVC, a linear support vector classifier. \n",
    "This classifier is imported from sklearn.svm module which includes Support Vector Machine algorithms."
   ]
  },
  {
   "cell_type": "code",
   "execution_count": 23,
   "id": "dba28b07-4306-4412-9693-b0d64797e578",
   "metadata": {},
   "outputs": [
    {
     "name": "stdout",
     "output_type": "stream",
     "text": [
      "0.99\n",
      "0.98\n"
     ]
    }
   ],
   "source": [
    "from sklearn.neighbors import KNeighborsClassifier\n",
    "knn = KNeighborsClassifier(n_neighbors = 5)\n",
    "knn.fit(X_train, y_train)\n",
    "print(f\"{knn.score(X_train, y_train):.2f}\")\n",
    "print(f\"{knn.score(X_test, y_test):.2f}\")"
   ]
  },
  {
   "cell_type": "code",
   "execution_count": 24,
   "id": "31fe5e86-485e-4a3d-a95e-0b4c47b94fac",
   "metadata": {},
   "outputs": [],
   "source": [
    "from sklearn.svm import LinearSVC"
   ]
  },
  {
   "cell_type": "markdown",
   "id": "9038cec8-c6df-45db-9f9b-194616093a10",
   "metadata": {},
   "source": [
    "## Step 2. Instantiate an object and set the parameters"
   ]
  },
  {
   "cell_type": "code",
   "execution_count": 28,
   "id": "91c07253-9118-4c1d-be5c-1b85c4c0d1de",
   "metadata": {},
   "outputs": [],
   "source": [
    "svm = LinearSVC()"
   ]
  },
  {
   "cell_type": "markdown",
   "id": "57d7e378-a7d2-4abe-aaee-05fc3dc81a98",
   "metadata": {},
   "source": [
    "## Step 3. Fit the model"
   ]
  },
  {
   "cell_type": "markdown",
   "id": "07659e74-408a-4c07-b47e-aef8fd46c74a",
   "metadata": {},
   "source": [
    "When fitting the model, use the train dataset."
   ]
  },
  {
   "cell_type": "code",
   "execution_count": 29,
   "id": "088e591a-6ece-461f-a25c-5c596ff7effe",
   "metadata": {},
   "outputs": [
    {
     "name": "stderr",
     "output_type": "stream",
     "text": [
      "/Users/ellen/opt/anaconda3/lib/python3.9/site-packages/sklearn/svm/_base.py:1206: ConvergenceWarning: Liblinear failed to converge, increase the number of iterations.\n",
      "  warnings.warn(\n"
     ]
    },
    {
     "data": {
      "text/plain": [
       "LinearSVC()"
      ]
     },
     "execution_count": 29,
     "metadata": {},
     "output_type": "execute_result"
    }
   ],
   "source": [
    "svm.fit(X_train, y_train)"
   ]
  },
  {
   "cell_type": "markdown",
   "id": "758e2a3d-4559-4d29-afbc-d136b725cc26",
   "metadata": {
    "tags": []
   },
   "source": [
    "## Step 4. Predict and Evaluate"
   ]
  },
  {
   "cell_type": "markdown",
   "id": "c21a6402-d10a-42ad-934b-0ae8406c26e9",
   "metadata": {},
   "source": [
    "Use the test set for this purpose, for now."
   ]
  },
  {
   "cell_type": "code",
   "execution_count": 33,
   "id": "cad63123-a0e4-4bec-bfc5-3619b1ec559f",
   "metadata": {},
   "outputs": [
    {
     "name": "stdout",
     "output_type": "stream",
     "text": [
      "[2 1 2 ... 9 8 9]\n",
      "[2 1 2 ... 9 8 9]\n"
     ]
    }
   ],
   "source": [
    "print(svm.predict(X_train))\n",
    "print(y_train)"
   ]
  },
  {
   "cell_type": "code",
   "execution_count": 35,
   "id": "d624b07c-223e-4c12-a4a1-096b4dc6d3d3",
   "metadata": {},
   "outputs": [
    {
     "name": "stdout",
     "output_type": "stream",
     "text": [
      "Score for train dataset using SVM: 0.9866\n"
     ]
    }
   ],
   "source": [
    "print(f\"Score for train dataset using SVM: {svm.score(X_train, y_train):.4f}\")"
   ]
  },
  {
   "cell_type": "markdown",
   "id": "d26f9493-dfb8-4c46-a7de-d91dfd3f05cc",
   "metadata": {},
   "source": [
    "## Step 5. Try Another Algorithm"
   ]
  },
  {
   "cell_type": "markdown",
   "id": "a5a948eb-e11c-42db-be6f-a804dc1d9fac",
   "metadata": {},
   "source": [
    "Try RandomForestClassifier this time, import it from sklearn.ensemble module."
   ]
  },
  {
   "cell_type": "markdown",
   "id": "004b2648-185e-4505-a84f-721b3ba72017",
   "metadata": {},
   "source": [
    "Decision trees: binary questions\n",
    "Random forest: forming many decision trees"
   ]
  },
  {
   "cell_type": "code",
   "execution_count": 37,
   "id": "cc39c765-44b3-4816-b6c2-3a854aed4e05",
   "metadata": {},
   "outputs": [
    {
     "name": "stdout",
     "output_type": "stream",
     "text": [
      "RandomForestClassifier(n_estimators=50)\n",
      "0.9622222222222222\n"
     ]
    }
   ],
   "source": [
    "from sklearn.ensemble import RandomForestClassifier\n",
    "rf = RandomForestClassifier(n_estimators=50) \n",
    "# n_estimators is the hyperparameter here = # of decision trees\n",
    "print(rf.fit(X_train, y_train))\n",
    "print(rf.score(X_test, y_test))"
   ]
  },
  {
   "cell_type": "markdown",
   "id": "a562b523-39b3-4541-8b12-3a92bb3a986e",
   "metadata": {},
   "source": [
    "# III. Cross-validation"
   ]
  },
  {
   "cell_type": "code",
   "execution_count": 43,
   "id": "833a021c-0785-4e1b-a459-40f38ecb9cf5",
   "metadata": {},
   "outputs": [],
   "source": [
    "from sklearn.model_selection import cross_val_score\n",
    "from sklearn.neighbors import KNeighborsClassifier"
   ]
  },
  {
   "cell_type": "markdown",
   "id": "be1f6f67-250c-4661-819f-c6a4ed777856",
   "metadata": {},
   "source": [
    "Learning the parameters of a prediction function and testing it on the same data is a\n",
    "methodological mistake: a model that would just repeat the labels of the samples that\n",
    "it has just seen would have a perfect score but would fail to predict anything useful on\n",
    "yet-unseen data. This situation is called overfitting. To avoid it, it is common practice \n",
    "when performing a (supervised) machine learning experiment to hold out part of the \n",
    "available data as a test set X_test, y_test.\n",
    "\n",
    "When evaluating different settings (\"hyperparameters\") for estimators, there is still a\n",
    "risk of overfitting on the test set because the parameters can be tweaked until the\n",
    "estimator performs optimally. This way, knowledge about the test set can \"leak\" into \n",
    "the model and evaluation metrics no longer report on generalization performance. To\n",
    "solve this problem, yet another part of the dataset can be held out as a so-called\n",
    "\"validation set\": training proceeds on the training set, after which evaluation is done on\n",
    "the validation set, and when the eperiment seems to be successful, final evaluation\n",
    "can be done on the test set.\n",
    "\n",
    "However, by partitioning the available data into three sets, we drastically reduce the\n",
    "number of samples which can be used for learning the model, and the results can\n",
    "depend on a particular random choice for the pair of (train, validation)sets.\n",
    "\n",
    "A solution to this problem is a procedure called cross-validation (CV for short). A test\n",
    "set should still be held out for final evaluation, but the validation set is no longer\n",
    "needed when doing CV. In the basic approach, called k-fold CV, the training set is split\n",
    "nto k smaller sets (other approaches are described below, but generally follow the \n",
    "same principles). The following procedure is followed for each of the k \"folds\":\n",
    "    \n",
    "A model is trained using the folds as training data; the resulting model is validated\n",
    "on the remaining part of the data (i.e., it is used as a test set to compute a performance\n",
    "measure such as accuracy).\n",
    "\n",
    "The performance measure reported by k-fold cross-validation is then the average of\n",
    "the values computed in the loop. This approach can be computationally expensive, but \n",
    "does not waste too much data (as is the case when fixing an arbitrary validation set),\n",
    "which is a major advantage in problems such as inverse inference where the number \n",
    "of samples is very small. \n",
    "(Check https://scikit-learn.org/stable/modules/cross_validation.html#cross-validation)\n"
   ]
  },
  {
   "cell_type": "code",
   "execution_count": 44,
   "id": "139eee37-fb24-4f76-8d43-ba563e14f300",
   "metadata": {},
   "outputs": [],
   "source": [
    "crossval_scores = []\n",
    "neighbors = np.arange(1,15,2) # array of odd numbers from 1 to <15\n",
    "for i in neighbors:\n",
    "    knn = KNeighborsClassifier(n_neighbors = i)\n",
    "    knn.fit(X_train, y_train)\n",
    "    scores = cross_val_score(knn, X_train, y_train, cv = 10)\n",
    "    crossval_scores.append(np.mean(scores))"
   ]
  },
  {
   "cell_type": "code",
   "execution_count": 46,
   "id": "e9723935-d93e-498d-90eb-d48a7c61d4c8",
   "metadata": {},
   "outputs": [
    {
     "data": {
      "text/plain": [
       "0.990342730790492"
      ]
     },
     "execution_count": 46,
     "metadata": {},
     "output_type": "execute_result"
    }
   ],
   "source": [
    "np.max(crossval_scores)"
   ]
  },
  {
   "cell_type": "code",
   "execution_count": 47,
   "id": "e022e6be-1f26-45de-8fba-4106400fd056",
   "metadata": {},
   "outputs": [
    {
     "data": {
      "text/plain": [
       "array([ 1,  3,  5,  7,  9, 11, 13])"
      ]
     },
     "execution_count": 47,
     "metadata": {},
     "output_type": "execute_result"
    }
   ],
   "source": [
    "neighbors"
   ]
  },
  {
   "cell_type": "code",
   "execution_count": 45,
   "id": "704f4df4-927e-41a5-844f-2dc8461d10c6",
   "metadata": {},
   "outputs": [
    {
     "data": {
      "text/plain": [
       "[0.990342730790492,\n",
       " 0.9888557213930348,\n",
       " 0.9888667772249862,\n",
       " 0.9836760641238254,\n",
       " 0.9829187396351575,\n",
       " 0.9814317302377005,\n",
       " 0.9807020453289109]"
      ]
     },
     "execution_count": 45,
     "metadata": {},
     "output_type": "execute_result"
    }
   ],
   "source": [
    "crossval_scores"
   ]
  },
  {
   "cell_type": "markdown",
   "id": "6e9d865c-b490-4402-b078-da5ab93d5e90",
   "metadata": {},
   "source": [
    "As we see, the maximum score correspond to the first value in neighbors."
   ]
  },
  {
   "cell_type": "code",
   "execution_count": 52,
   "id": "353b6e1a-e128-4e7b-b035-3a1d5164f28e",
   "metadata": {},
   "outputs": [
    {
     "name": "stdout",
     "output_type": "stream",
     "text": [
      "0\n"
     ]
    }
   ],
   "source": [
    "ind_max_score = np.argmax(crossval_scores)\n",
    "print(ind_max_score)"
   ]
  },
  {
   "cell_type": "code",
   "execution_count": 50,
   "id": "cf4fd560-0dbc-4f43-95b9-0a1bce8a5fda",
   "metadata": {},
   "outputs": [
    {
     "data": {
      "text/plain": [
       "0.990342730790492"
      ]
     },
     "execution_count": 50,
     "metadata": {},
     "output_type": "execute_result"
    }
   ],
   "source": [
    "crossval_scores[np.argmax(crossval_scores)]"
   ]
  },
  {
   "cell_type": "code",
   "execution_count": 53,
   "id": "60bda652-b424-414c-99c6-62be96834d28",
   "metadata": {},
   "outputs": [
    {
     "data": {
      "text/plain": [
       "1"
      ]
     },
     "execution_count": 53,
     "metadata": {},
     "output_type": "execute_result"
    }
   ],
   "source": [
    "neighbors[ind_max_score]"
   ]
  },
  {
   "cell_type": "markdown",
   "id": "729e894f-bec0-4928-90be-571b8410413e",
   "metadata": {},
   "source": [
    "# Grid Searches"
   ]
  },
  {
   "cell_type": "markdown",
   "id": "247f4022-194e-489e-b44a-f1a374220ff5",
   "metadata": {},
   "source": [
    "Exhaustive search over specified parameter values for an estimator."
   ]
  },
  {
   "cell_type": "markdown",
   "id": "79e5eead-78fc-49b2-ae85-6417ab72c9a6",
   "metadata": {},
   "source": [
    "Important members are fit, predict."
   ]
  },
  {
   "cell_type": "markdown",
   "id": "156d3fb8-3c56-493c-bda9-1cf504edeee9",
   "metadata": {},
   "source": [
    "## Grid-Search with build-in cross validation"
   ]
  },
  {
   "cell_type": "markdown",
   "id": "19d95ea3-af87-49cd-988e-1d117b47b8ff",
   "metadata": {},
   "source": [
    "A GridSearchCV object behaves just like a normal classifier."
   ]
  },
  {
   "cell_type": "code",
   "execution_count": 59,
   "id": "60e2635a-0833-4443-9d34-18dc6bc0c269",
   "metadata": {},
   "outputs": [],
   "source": [
    "myparam = {'n_neighbors':np.arange(1,30,2)} # dict with key: param"
   ]
  },
  {
   "cell_type": "code",
   "execution_count": 61,
   "id": "a49e670f-281d-4a6f-b8be-328bbce11b28",
   "metadata": {},
   "outputs": [],
   "source": [
    "from sklearn.model_selection import GridSearchCV\n",
    "grid = GridSearchCV(KNeighborsClassifier(), param_grid = myparam,\n",
    "                   cv = 10, return_train_score = True)\n",
    "# if you don't include return_train_score=True you only get the validation scores,\n",
    "# instead of the train and test(validation) scores"
   ]
  },
  {
   "cell_type": "code",
   "execution_count": 62,
   "id": "824d6320-d956-4a91-8324-25681758e0c4",
   "metadata": {},
   "outputs": [
    {
     "data": {
      "text/plain": [
       "GridSearchCV(cv=10, estimator=KNeighborsClassifier(),\n",
       "             param_grid={'n_neighbors': array([ 1,  3,  5,  7,  9, 11, 13, 15, 17, 19, 21, 23, 25, 27, 29])},\n",
       "             return_train_score=True)"
      ]
     },
     "execution_count": 62,
     "metadata": {},
     "output_type": "execute_result"
    }
   ],
   "source": [
    "grid"
   ]
  },
  {
   "cell_type": "code",
   "execution_count": 63,
   "id": "16d2ea86-dfe7-41d3-bdb8-ef9551404b24",
   "metadata": {},
   "outputs": [
    {
     "data": {
      "text/plain": [
       "GridSearchCV(cv=10, estimator=KNeighborsClassifier(),\n",
       "             param_grid={'n_neighbors': array([ 1,  3,  5,  7,  9, 11, 13, 15, 17, 19, 21, 23, 25, 27, 29])},\n",
       "             return_train_score=True)"
      ]
     },
     "execution_count": 63,
     "metadata": {},
     "output_type": "execute_result"
    }
   ],
   "source": [
    "grid.fit(X_train, y_train) "
   ]
  },
  {
   "cell_type": "code",
   "execution_count": 64,
   "id": "7b4883b0-d58e-42f7-831e-9f09abd7a521",
   "metadata": {},
   "outputs": [
    {
     "data": {
      "text/plain": [
       "0.990342730790492"
      ]
     },
     "execution_count": 64,
     "metadata": {},
     "output_type": "execute_result"
    }
   ],
   "source": [
    "grid.best_score_ # attribute\n",
    "# returns the best score out of 13 k values, the best mean score is 0.99"
   ]
  },
  {
   "cell_type": "code",
   "execution_count": 65,
   "id": "bae9c69a-dd28-41ac-a6c7-ff4a7ca6c5f8",
   "metadata": {},
   "outputs": [
    {
     "data": {
      "text/plain": [
       "{'n_neighbors': 1}"
      ]
     },
     "execution_count": 65,
     "metadata": {},
     "output_type": "execute_result"
    }
   ],
   "source": [
    "grid.best_params_"
   ]
  },
  {
   "cell_type": "code",
   "execution_count": null,
   "id": "3d96bfe8-d858-43bc-a07e-0e255168994a",
   "metadata": {},
   "outputs": [],
   "source": [
    "# returns a dictionary with results of the split for train a test datasets\n",
    "grid.cv_results_ "
   ]
  },
  {
   "cell_type": "code",
   "execution_count": null,
   "id": "0ea40c90-83f6-4d9e-9ecc-8c6fc28a5bbe",
   "metadata": {},
   "outputs": [],
   "source": [
    "grid.score(X_test, y_test)\n",
    "# returns of the score of the best model of this test dataset"
   ]
  },
  {
   "cell_type": "code",
   "execution_count": 66,
   "id": "11849f63-3271-4eba-ac79-116b221b1d56",
   "metadata": {},
   "outputs": [
    {
     "data": {
      "text/html": [
       "<div>\n",
       "<style scoped>\n",
       "    .dataframe tbody tr th:only-of-type {\n",
       "        vertical-align: middle;\n",
       "    }\n",
       "\n",
       "    .dataframe tbody tr th {\n",
       "        vertical-align: top;\n",
       "    }\n",
       "\n",
       "    .dataframe thead th {\n",
       "        text-align: right;\n",
       "    }\n",
       "</style>\n",
       "<table border=\"1\" class=\"dataframe\">\n",
       "  <thead>\n",
       "    <tr style=\"text-align: right;\">\n",
       "      <th></th>\n",
       "      <th>mean_fit_time</th>\n",
       "      <th>std_fit_time</th>\n",
       "      <th>mean_score_time</th>\n",
       "      <th>std_score_time</th>\n",
       "      <th>param_n_neighbors</th>\n",
       "      <th>params</th>\n",
       "      <th>split0_test_score</th>\n",
       "      <th>split1_test_score</th>\n",
       "      <th>split2_test_score</th>\n",
       "      <th>split3_test_score</th>\n",
       "      <th>...</th>\n",
       "      <th>split2_train_score</th>\n",
       "      <th>split3_train_score</th>\n",
       "      <th>split4_train_score</th>\n",
       "      <th>split5_train_score</th>\n",
       "      <th>split6_train_score</th>\n",
       "      <th>split7_train_score</th>\n",
       "      <th>split8_train_score</th>\n",
       "      <th>split9_train_score</th>\n",
       "      <th>mean_train_score</th>\n",
       "      <th>std_train_score</th>\n",
       "    </tr>\n",
       "  </thead>\n",
       "  <tbody>\n",
       "    <tr>\n",
       "      <th>0</th>\n",
       "      <td>0.000688</td>\n",
       "      <td>0.000617</td>\n",
       "      <td>0.005704</td>\n",
       "      <td>0.002320</td>\n",
       "      <td>1</td>\n",
       "      <td>{'n_neighbors': 1}</td>\n",
       "      <td>1.000000</td>\n",
       "      <td>0.992593</td>\n",
       "      <td>1.000000</td>\n",
       "      <td>0.970370</td>\n",
       "      <td>...</td>\n",
       "      <td>1.000000</td>\n",
       "      <td>1.000000</td>\n",
       "      <td>1.000000</td>\n",
       "      <td>1.000000</td>\n",
       "      <td>1.000000</td>\n",
       "      <td>1.000000</td>\n",
       "      <td>1.000000</td>\n",
       "      <td>1.000000</td>\n",
       "      <td>1.000000</td>\n",
       "      <td>0.000000</td>\n",
       "    </tr>\n",
       "    <tr>\n",
       "      <th>1</th>\n",
       "      <td>0.000471</td>\n",
       "      <td>0.000188</td>\n",
       "      <td>0.005326</td>\n",
       "      <td>0.000900</td>\n",
       "      <td>3</td>\n",
       "      <td>{'n_neighbors': 3}</td>\n",
       "      <td>0.992593</td>\n",
       "      <td>0.985185</td>\n",
       "      <td>0.985185</td>\n",
       "      <td>0.985185</td>\n",
       "      <td>...</td>\n",
       "      <td>0.994224</td>\n",
       "      <td>0.996700</td>\n",
       "      <td>0.994224</td>\n",
       "      <td>0.995875</td>\n",
       "      <td>0.995050</td>\n",
       "      <td>0.996702</td>\n",
       "      <td>0.995054</td>\n",
       "      <td>0.995878</td>\n",
       "      <td>0.995298</td>\n",
       "      <td>0.000908</td>\n",
       "    </tr>\n",
       "    <tr>\n",
       "      <th>2</th>\n",
       "      <td>0.000388</td>\n",
       "      <td>0.000017</td>\n",
       "      <td>0.005521</td>\n",
       "      <td>0.000916</td>\n",
       "      <td>5</td>\n",
       "      <td>{'n_neighbors': 5}</td>\n",
       "      <td>0.992593</td>\n",
       "      <td>0.985185</td>\n",
       "      <td>0.985185</td>\n",
       "      <td>0.985185</td>\n",
       "      <td>...</td>\n",
       "      <td>0.989274</td>\n",
       "      <td>0.993399</td>\n",
       "      <td>0.991749</td>\n",
       "      <td>0.994224</td>\n",
       "      <td>0.992574</td>\n",
       "      <td>0.992580</td>\n",
       "      <td>0.992580</td>\n",
       "      <td>0.991756</td>\n",
       "      <td>0.992081</td>\n",
       "      <td>0.001391</td>\n",
       "    </tr>\n",
       "    <tr>\n",
       "      <th>3</th>\n",
       "      <td>0.000376</td>\n",
       "      <td>0.000007</td>\n",
       "      <td>0.005112</td>\n",
       "      <td>0.000313</td>\n",
       "      <td>7</td>\n",
       "      <td>{'n_neighbors': 7}</td>\n",
       "      <td>0.992593</td>\n",
       "      <td>0.985185</td>\n",
       "      <td>0.977778</td>\n",
       "      <td>0.962963</td>\n",
       "      <td>...</td>\n",
       "      <td>0.987624</td>\n",
       "      <td>0.989274</td>\n",
       "      <td>0.986799</td>\n",
       "      <td>0.991749</td>\n",
       "      <td>0.989274</td>\n",
       "      <td>0.990932</td>\n",
       "      <td>0.987634</td>\n",
       "      <td>0.986810</td>\n",
       "      <td>0.988782</td>\n",
       "      <td>0.001573</td>\n",
       "    </tr>\n",
       "    <tr>\n",
       "      <th>4</th>\n",
       "      <td>0.000373</td>\n",
       "      <td>0.000004</td>\n",
       "      <td>0.005078</td>\n",
       "      <td>0.000224</td>\n",
       "      <td>9</td>\n",
       "      <td>{'n_neighbors': 9}</td>\n",
       "      <td>0.992593</td>\n",
       "      <td>0.985185</td>\n",
       "      <td>0.977778</td>\n",
       "      <td>0.962963</td>\n",
       "      <td>...</td>\n",
       "      <td>0.984323</td>\n",
       "      <td>0.985974</td>\n",
       "      <td>0.983498</td>\n",
       "      <td>0.988449</td>\n",
       "      <td>0.985974</td>\n",
       "      <td>0.985161</td>\n",
       "      <td>0.985161</td>\n",
       "      <td>0.983512</td>\n",
       "      <td>0.984987</td>\n",
       "      <td>0.001556</td>\n",
       "    </tr>\n",
       "  </tbody>\n",
       "</table>\n",
       "<p>5 rows × 31 columns</p>\n",
       "</div>"
      ],
      "text/plain": [
       "   mean_fit_time  std_fit_time  mean_score_time  std_score_time  \\\n",
       "0       0.000688      0.000617         0.005704        0.002320   \n",
       "1       0.000471      0.000188         0.005326        0.000900   \n",
       "2       0.000388      0.000017         0.005521        0.000916   \n",
       "3       0.000376      0.000007         0.005112        0.000313   \n",
       "4       0.000373      0.000004         0.005078        0.000224   \n",
       "\n",
       "  param_n_neighbors              params  split0_test_score  split1_test_score  \\\n",
       "0                 1  {'n_neighbors': 1}           1.000000           0.992593   \n",
       "1                 3  {'n_neighbors': 3}           0.992593           0.985185   \n",
       "2                 5  {'n_neighbors': 5}           0.992593           0.985185   \n",
       "3                 7  {'n_neighbors': 7}           0.992593           0.985185   \n",
       "4                 9  {'n_neighbors': 9}           0.992593           0.985185   \n",
       "\n",
       "   split2_test_score  split3_test_score  ...  split2_train_score  \\\n",
       "0           1.000000           0.970370  ...            1.000000   \n",
       "1           0.985185           0.985185  ...            0.994224   \n",
       "2           0.985185           0.985185  ...            0.989274   \n",
       "3           0.977778           0.962963  ...            0.987624   \n",
       "4           0.977778           0.962963  ...            0.984323   \n",
       "\n",
       "   split3_train_score  split4_train_score  split5_train_score  \\\n",
       "0            1.000000            1.000000            1.000000   \n",
       "1            0.996700            0.994224            0.995875   \n",
       "2            0.993399            0.991749            0.994224   \n",
       "3            0.989274            0.986799            0.991749   \n",
       "4            0.985974            0.983498            0.988449   \n",
       "\n",
       "   split6_train_score  split7_train_score  split8_train_score  \\\n",
       "0            1.000000            1.000000            1.000000   \n",
       "1            0.995050            0.996702            0.995054   \n",
       "2            0.992574            0.992580            0.992580   \n",
       "3            0.989274            0.990932            0.987634   \n",
       "4            0.985974            0.985161            0.985161   \n",
       "\n",
       "   split9_train_score  mean_train_score  std_train_score  \n",
       "0            1.000000          1.000000         0.000000  \n",
       "1            0.995878          0.995298         0.000908  \n",
       "2            0.991756          0.992081         0.001391  \n",
       "3            0.986810          0.988782         0.001573  \n",
       "4            0.983512          0.984987         0.001556  \n",
       "\n",
       "[5 rows x 31 columns]"
      ]
     },
     "execution_count": 66,
     "metadata": {},
     "output_type": "execute_result"
    }
   ],
   "source": [
    "import pandas as pd\n",
    "\n",
    "# turn cv_results_ dictionary into dataframe for better reading of results\n",
    "results = pd.DataFrame(grid.cv_results_)\n",
    "results.head()"
   ]
  },
  {
   "cell_type": "code",
   "execution_count": 67,
   "id": "430fa8b0-805a-4eef-b7c0-a5e6cf60331c",
   "metadata": {},
   "outputs": [
    {
     "data": {
      "text/plain": [
       "Index(['mean_fit_time', 'std_fit_time', 'mean_score_time', 'std_score_time',\n",
       "       'param_n_neighbors', 'params', 'split0_test_score', 'split1_test_score',\n",
       "       'split2_test_score', 'split3_test_score', 'split4_test_score',\n",
       "       'split5_test_score', 'split6_test_score', 'split7_test_score',\n",
       "       'split8_test_score', 'split9_test_score', 'mean_test_score',\n",
       "       'std_test_score', 'rank_test_score', 'split0_train_score',\n",
       "       'split1_train_score', 'split2_train_score', 'split3_train_score',\n",
       "       'split4_train_score', 'split5_train_score', 'split6_train_score',\n",
       "       'split7_train_score', 'split8_train_score', 'split9_train_score',\n",
       "       'mean_train_score', 'std_train_score'],\n",
       "      dtype='object')"
      ]
     },
     "execution_count": 67,
     "metadata": {},
     "output_type": "execute_result"
    }
   ],
   "source": [
    "results.columns "
   ]
  },
  {
   "cell_type": "code",
   "execution_count": 70,
   "id": "b7622076-1300-4b1c-87c8-f5246ff73021",
   "metadata": {},
   "outputs": [
    {
     "name": "stderr",
     "output_type": "stream",
     "text": [
      "/Users/ellen/opt/anaconda3/lib/python3.9/site-packages/pandas/core/indexes/base.py:6982: FutureWarning: In a future version, the Index constructor will not infer numeric dtypes when passed object-dtype sequences (matching Series behavior)\n",
      "  return Index(sequences[0], name=names)\n",
      "/Users/ellen/opt/anaconda3/lib/python3.9/site-packages/pandas/core/indexes/base.py:6982: FutureWarning: In a future version, the Index constructor will not infer numeric dtypes when passed object-dtype sequences (matching Series behavior)\n",
      "  return Index(sequences[0], name=names)\n"
     ]
    },
    {
     "data": {
      "text/plain": [
       "<AxesSubplot:xlabel='param_n_neighbors'>"
      ]
     },
     "execution_count": 70,
     "metadata": {},
     "output_type": "execute_result"
    },
    {
     "data": {
      "image/png": "[encoded data removed]",
      "text/plain": [
       "<Figure size 432x288 with 1 Axes>"
      ]
     },
     "metadata": {
      "needs_background": "light"
     },
     "output_type": "display_data"
    }
   ],
   "source": [
    "results.plot('param_n_neighbors','mean_train_score')\n",
    "results.plot('param_n_neighbors','mean_test_score',ax=plt.gca())"
   ]
  },
  {
   "cell_type": "markdown",
   "id": "fb770b7e-1a80-4ef1-8c71-0b70415b4028",
   "metadata": {},
   "source": [
    "As the number of neighbors changes, the score changes."
   ]
  },
  {
   "cell_type": "code",
   "execution_count": null,
   "id": "41d67cce-8502-463e-8870-19318471a5f3",
   "metadata": {},
   "outputs": [],
   "source": []
  }
 ],
 "metadata": {
  "kernelspec": {
   "display_name": "Python 3 (ipykernel)",
   "language": "python",
   "name": "python3"
  },
  "language_info": {
   "codemirror_mode": {
    "name": "ipython",
    "version": 3
   },
   "file_extension": ".py",
   "mimetype": "text/x-python",
   "name": "python",
   "nbconvert_exporter": "python",
   "pygments_lexer": "ipython3",
   "version": "3.9.12"
  }
 },
 "nbformat": 4,
 "nbformat_minor": 5
}
